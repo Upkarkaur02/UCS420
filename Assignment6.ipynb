{
  "nbformat": 4,
  "nbformat_minor": 0,
  "metadata": {
    "colab": {
      "provenance": []
    },
    "kernelspec": {
      "name": "python3",
      "display_name": "Python 3"
    },
    "language_info": {
      "name": "python"
    }
  },
  "cells": [
    {
      "cell_type": "code",
      "execution_count": null,
      "metadata": {
        "id": "kew3OKb9riMb",
        "colab": {
          "base_uri": "https://localhost:8080/"
        },
        "outputId": "4b9f8ec0-e87e-44f6-9eb8-1d41e2d1b260"
      },
      "outputs": [
        {
          "output_type": "stream",
          "name": "stdout",
          "text": [
            "Enter a number: 10\n",
            "The sum of odd numbers from 1 to 10 is 25\n"
          ]
        }
      ],
      "source": [
        "#Assignment 6.1\n",
        "#Add all odd numbers from 1 to n\n",
        "\n",
        "def add(n):\n",
        "  sum = 0\n",
        "  for i in range(1, n + 1, 2):\n",
        "    sum += i\n",
        "  return sum\n",
        "\n",
        "n = int(input(\"Enter a number: \"))\n",
        "result = add(n)\n",
        "print(f\"The sum of odd numbers from 1 to {n} is {result}\")"
      ]
    },
    {
      "cell_type": "markdown",
      "source": [],
      "metadata": {
        "id": "9slza_TfwNaP"
      }
    },
    {
      "cell_type": "code",
      "source": [
        "#Assignment 6.2\n",
        "#Add all prime numbers from 1 to n\n",
        "def is_prime(num):\n",
        "    if num <= 1:\n",
        "        return False\n",
        "    for i in range(2, int(num ** 0.5) + 1):\n",
        "        if num % i == 0:\n",
        "            return False\n",
        "    return True\n",
        "\n",
        "def add(n):\n",
        "    total = 0\n",
        "    for i in range(2, n + 1):\n",
        "        if is_prime(i):\n",
        "            total += i\n",
        "    return total\n",
        "\n",
        "n = int(input(\"Enter a number: \"))\n",
        "result = add(n)\n",
        "print(f\"The sum of all prime numbers from 1 to {n} is: {result}\")"
      ],
      "metadata": {
        "colab": {
          "base_uri": "https://localhost:8080/"
        },
        "id": "3k9-WXGZwBkL",
        "outputId": "9a63ca90-17ba-4a3e-db27-59c26b0002a9"
      },
      "execution_count": null,
      "outputs": [
        {
          "output_type": "stream",
          "name": "stdout",
          "text": [
            "Enter a number: 10\n",
            "The sum of all prime numbers from 1 to 10 is: 17\n"
          ]
        }
      ]
    }
  ]
}