{
  "nbformat": 4,
  "nbformat_minor": 0,
  "metadata": {
    "colab": {
      "provenance": []
    },
    "kernelspec": {
      "name": "python3",
      "display_name": "Python 3"
    },
    "language_info": {
      "name": "python"
    }
  },
  "cells": [
    {
      "cell_type": "markdown",
      "source": [
        "1. Create a list that defined as = [10, 20, 30, 40, 50, 60, 70, 80]"
      ],
      "metadata": {
        "id": "g34Yk8hgZaEu"
      }
    },
    {
      "cell_type": "code",
      "execution_count": null,
      "metadata": {
        "colab": {
          "base_uri": "https://localhost:8080/"
        },
        "id": "Up01VoyCY7Hx",
        "outputId": "c3ed6977-3998-479d-fa3a-5c6d605ab017"
      },
      "outputs": [
        {
          "output_type": "stream",
          "name": "stdout",
          "text": [
            "After adding 200 and 300 the list is:  [10, 20, 30, 40, 50, 60, 70, 80, 200, 300]\n",
            "Remove 10 and 30 from list:  [20, 40, 50, 60, 70, 80, 200, 300]\n",
            "Sorting list in ascending order:  [20, 40, 50, 60, 70, 80, 200, 300]\n",
            "Sorting list in descending order:  [300, 200, 80, 70, 60, 50, 40, 20]\n"
          ]
        }
      ],
      "source": [
        "L = [10, 20, 30, 40, 50, 60, 70, 80]\n",
        "\n",
        "# Write a program to add 200 and 300 to L\n",
        "L.append(200)\n",
        "L.append(300)\n",
        "#OR L.extend([200, 300])\n",
        "print(\"After adding 200 and 300 the list is: \", L)\n",
        "\n",
        "# Remove 10 and 30 from L\n",
        "L.remove(10)\n",
        "L.remove(30)\n",
        "print(\"Remove 10 and 30 from list: \", L)\n",
        "\n",
        "# Sort L in ascending order\n",
        "L.sort()\n",
        "print(\"Sorting list in ascending order: \", L)\n",
        "\n",
        "# Sort L in descending order\n",
        "L.sort(reverse=True)\n",
        "print(\"Sorting list in descending order: \", L)"
      ]
    },
    {
      "cell_type": "markdown",
      "source": [
        "2. Create a tuple of marks scored as scores = (45, 89.5, 76, 45.4, 89, 92, 58, 45) and perform the following operations using tuple functions:"
      ],
      "metadata": {
        "id": "qceEe5sicQey"
      }
    },
    {
      "cell_type": "code",
      "source": [
        "#Identify the highest scorea and its index in the tuple\n",
        "Scores = (45, 89.5, 76, 45.4, 89, 92, 58, 45)\n",
        "highest_score = max(Scores)\n",
        "print(\"Higest score:\", highest_score)\n",
        "print(\"Index of Highest score:\", Scores.index(highest_score))"
      ],
      "metadata": {
        "colab": {
          "base_uri": "https://localhost:8080/"
        },
        "id": "5YJqn31TZYcv",
        "outputId": "37b849bf-75b3-4f58-e023-f97dac15a036"
      },
      "execution_count": null,
      "outputs": [
        {
          "output_type": "stream",
          "name": "stdout",
          "text": [
            "Higest score: 92\n",
            "Index of Highest score: 5\n"
          ]
        }
      ]
    },
    {
      "cell_type": "code",
      "source": [
        "#Find the lowest score and count how many times it appears\n",
        "Scores = (45, 89.5, 76, 45.4, 89, 92, 58, 45)\n",
        "lowest_score = min(Scores)\n",
        "print(\"Lowest score :\", min(Scores))\n",
        "print(\"It appear \", Scores.count(lowest_score),\"times\")"
      ],
      "metadata": {
        "id": "FDRlxIrSeic7",
        "colab": {
          "base_uri": "https://localhost:8080/"
        },
        "outputId": "0327d6ec-ee16-4468-e0d3-3a406595cced"
      },
      "execution_count": null,
      "outputs": [
        {
          "output_type": "stream",
          "name": "stdout",
          "text": [
            "Lowest score : 45\n",
            "It appear  2 times\n"
          ]
        }
      ]
    },
    {
      "cell_type": "code",
      "source": [
        "#Reverse the tuple and return it as a list\n",
        "Scores = (45, 89.5, 76, 45.4, 89, 92, 58, 45)\n",
        "print(Scores)\n",
        "reverse_scores = Scores[::-1]\n",
        "print(\"The reverse of Scores is \", reverse_scores)\n",
        "print(list(reverse_scores))"
      ],
      "metadata": {
        "colab": {
          "base_uri": "https://localhost:8080/"
        },
        "id": "Ceuxt-Fvm4TA",
        "outputId": "2bd817d3-5d83-419f-cc8a-7ca5de644955"
      },
      "execution_count": null,
      "outputs": [
        {
          "output_type": "stream",
          "name": "stdout",
          "text": [
            "(45, 89.5, 76, 45.4, 89, 92, 58, 45)\n",
            "The reverse of Scores is  (45, 58, 92, 89, 45.4, 76, 89.5, 45)\n",
            "[45, 58, 92, 89, 45.4, 76, 89.5, 45]\n"
          ]
        }
      ]
    },
    {
      "cell_type": "code",
      "source": [
        "#Check if a specific score ‘76’ (input by the user) is present in the tuple and print its first occurrence index, or a message saying it’s not present.\n",
        "Scores = (45, 89.5, 76, 45.4, 89, 92, 58, 45)\n",
        "Check_score = float(input(\"Enter a number: \"))\n",
        "if Check_score in Scores:\n",
        "  score_index = Scores.index(Check_score)\n",
        "  print(f\"Score {Check_score} is present at index {score_index}.\")\n",
        "else:\n",
        "  print(f\"Score {Check_score} is not present in the tuple\")\n"
      ],
      "metadata": {
        "colab": {
          "base_uri": "https://localhost:8080/"
        },
        "id": "kuTJIDwEoVam",
        "outputId": "723ad168-2474-481f-f4f4-485ab0594795"
      },
      "execution_count": null,
      "outputs": [
        {
          "output_type": "stream",
          "name": "stdout",
          "text": [
            "Enter a number: 76\n",
            "Score 76.0 is present at index 2.\n"
          ]
        }
      ]
    },
    {
      "cell_type": "markdown",
      "source": [
        "3. WAP to create a list of 100 random numbers between 100 and 900. Count and print\n",
        "the:\n"
      ],
      "metadata": {
        "id": "PKhbm7PFqhGH"
      }
    },
    {
      "cell_type": "code",
      "source": [
        "import random\n",
        "#All odd numbers\n",
        "random_numbers = [random.randint(100,900) for _ in range(100)]\n",
        "print(\"The random numbers are: \", random_numbers)\n",
        "odd_numbers = [num for num in random_numbers if num % 2 != 0]\n",
        "print(\"The odd numbers :\", odd_numbers)\n",
        "print(\"Count of odd numbers:\", len(odd_numbers))\n",
        "\n",
        "#All even numbers\n",
        "even_numbers = [num for num in random_numbers if num % 2 == 0]\n",
        "print(\"Even numbers:\", even_numbers)\n",
        "print(\"Count of even numbers:\", len(even_numbers))\n",
        "\n",
        "#All prime numbers\n",
        "def is_prime(n):\n",
        "    if n <= 1:\n",
        "        return False\n",
        "    for i in range(2, int(n ** 0.5) + 1):\n",
        "        if n % i == 0:\n",
        "            return False\n",
        "    return True\n",
        "\n",
        "prime_numbers = [num for num in random_numbers if is_prime(num)]\n",
        "print(\"Prime numbers:\", prime_numbers)\n",
        "print(\"Count of prime numbers:\", len(prime_numbers))"
      ],
      "metadata": {
        "id": "fKt5ZbPhqZzF",
        "colab": {
          "base_uri": "https://localhost:8080/"
        },
        "outputId": "17d1d83e-9ad8-472b-d51a-180a56afe974"
      },
      "execution_count": 14,
      "outputs": [
        {
          "output_type": "stream",
          "name": "stdout",
          "text": [
            "The random numbers are:  [129, 683, 286, 486, 850, 142, 473, 160, 735, 110, 441, 644, 677, 747, 292, 130, 323, 654, 617, 433, 541, 783, 876, 528, 776, 222, 750, 458, 487, 899, 558, 142, 809, 587, 682, 659, 670, 200, 350, 706, 291, 227, 598, 859, 652, 288, 238, 476, 614, 481, 193, 771, 720, 762, 133, 408, 748, 738, 567, 654, 560, 713, 877, 666, 120, 712, 845, 781, 558, 445, 304, 714, 682, 668, 325, 792, 510, 222, 794, 281, 482, 474, 783, 706, 155, 341, 649, 140, 501, 384, 877, 512, 616, 323, 302, 146, 475, 505, 365, 543]\n",
            "The odd numbers : [129, 683, 473, 735, 441, 677, 747, 323, 617, 433, 541, 783, 487, 899, 809, 587, 659, 291, 227, 859, 481, 193, 771, 133, 567, 713, 877, 845, 781, 445, 325, 281, 783, 155, 341, 649, 501, 877, 323, 475, 505, 365, 543]\n",
            "Count of odd numbers: 43\n",
            "Even numbers: [286, 486, 850, 142, 160, 110, 644, 292, 130, 654, 876, 528, 776, 222, 750, 458, 558, 142, 682, 670, 200, 350, 706, 598, 652, 288, 238, 476, 614, 720, 762, 408, 748, 738, 654, 560, 666, 120, 712, 558, 304, 714, 682, 668, 792, 510, 222, 794, 482, 474, 706, 140, 384, 512, 616, 302, 146]\n",
            "Count of even numbers: 57\n",
            "Prime numbers: [683, 677, 617, 433, 541, 487, 809, 587, 659, 227, 859, 193, 877, 281, 877]\n",
            "Count of prime numbers: 15\n"
          ]
        }
      ]
    },
    {
      "cell_type": "markdown",
      "source": [
        "4. Consider the following two sets, A and B, representing scores of two teams in multiple\n",
        "matches. A = {34, 56, 78, 90} and B = {78, 45, 90, 23}\n",
        "WAP to perform the following operations using set functions:"
      ],
      "metadata": {
        "id": "gixFdBiRvjAC"
      }
    },
    {
      "cell_type": "code",
      "source": [
        "#Find the unique scores achieved by both teams (union of sets).\n",
        "A = {34, 56, 78, 90}\n",
        "B = {78, 45, 90, 23}\n",
        "print(\"The unique scores achieved by both teams are \", A.union(B))\n",
        "\n",
        "#Identify the scores that are common to both teams (intersection of sets).\n",
        "print(\"The scores that are common in both are \", A&B)\n",
        "\n",
        "#Find the scores that are exclusive to each team (symmetric difference).\n",
        "print(\"The scores that are exclusive to each team are\", A.symmetric_difference(B))\n",
        "\n",
        "#Check if the scores of team A are a subset of team B, and if team B's scores are a superset of team A.\n",
        "print(\"Are the scores of team A is subset of team B?\", A.issubset(B))\n",
        "print(\"Are the scores of team B is superset of team A?\", B.issuperset(A))\n",
        "\n",
        "#Remove a specific score 𝑋 (input by the user) from set A if it exists. If not, print a message saying it is not present.\n",
        "Remove_score = int(input(\"Enter score which you want to remove: \"))\n",
        "if Remove_score in A:\n",
        "  print(f\"Score {Remove_score} has been removed from set A\", A.remove(Remove_score))\n",
        "else:\n",
        "  print(f\"Score {Remove_score} is not present in set A\")\n",
        "\n",
        "print(\"Updated set of A\",A)"
      ],
      "metadata": {
        "colab": {
          "base_uri": "https://localhost:8080/"
        },
        "id": "sSLaErCtvxAA",
        "outputId": "7d738fdc-366e-494a-a40c-ab995af99300"
      },
      "execution_count": 21,
      "outputs": [
        {
          "output_type": "stream",
          "name": "stdout",
          "text": [
            "The unique scores achieved by both teams are  {34, 45, 78, 23, 56, 90}\n",
            "The scores that are common in both are  {90, 78}\n",
            "The scores that are exclusive to each team are {34, 45, 23, 56}\n",
            "Are the scores of team A is subset of team B? False\n",
            "Are the scores of team B is superset of team A? False\n",
            "Enter score which you want to remove: 78\n",
            "Score 78 has been removed from set A None\n",
            "Updated set of A {56, 34, 90}\n"
          ]
        }
      ]
    },
    {
      "cell_type": "markdown",
      "source": [
        "5. Write a program to rename a key city to a location in the following\n",
        " dictionary"
      ],
      "metadata": {
        "id": "3g-R-T8f0ban"
      }
    },
    {
      "cell_type": "code",
      "source": [
        "sample_dict = {\n",
        "    \"name\": \"kelly\",\n",
        "    \"age\": 25,\n",
        "    \"salary\": 8000,\n",
        "    \"city\": \"New york\"\n",
        "}\n",
        "print(\"The Original dictionary:\", sample_dict)\n",
        "old_key = \"city\"\n",
        "new_key = \"location\"\n",
        "if old_key in sample_dict:\n",
        "  sample_dict[new_key] = sample_dict.pop(old_key)\n",
        "  print(f\"Renamed '{old_key}' to '{new_key}'\")\n",
        "else:\n",
        "  print(f\"'{old_key}' not found in the dictionary.\")\n",
        "\n",
        "print(\"The updated dictionary is: \",sample_dict )"
      ],
      "metadata": {
        "colab": {
          "base_uri": "https://localhost:8080/"
        },
        "id": "AOu93svG0lub",
        "outputId": "1ca12204-d230-4ea9-92b0-e5e8876f27e5"
      },
      "execution_count": 25,
      "outputs": [
        {
          "output_type": "stream",
          "name": "stdout",
          "text": [
            "The Original dictionary: {'name': 'kelly', 'age': 25, 'salary': 8000, 'city': 'New york'}\n",
            "Renamed 'city' to 'location'\n",
            "The updated dictionary is:  {'name': 'kelly', 'age': 25, 'salary': 8000, 'location': 'New york'}\n"
          ]
        }
      ]
    },
    {
      "cell_type": "markdown",
      "source": [],
      "metadata": {
        "id": "ud-4kunEyFN-"
      }
    }
  ]
}