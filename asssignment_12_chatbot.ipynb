{
 "cells": [
  {
   "cell_type": "code",
   "execution_count": null,
   "id": "95ce7816-acfe-43a1-8a90-84eab7b3cc1b",
   "metadata": {},
   "outputs": [
    {
     "name": "stdout",
     "output_type": "stream",
     "text": [
      "HealthBot: Hello! I am HealthBot. How can I assist you today?\n"
     ]
    },
    {
     "name": "stdin",
     "output_type": "stream",
     "text": [
      "You:  hello\n"
     ]
    },
    {
     "name": "stdout",
     "output_type": "stream",
     "text": [
      "HealthBot: Hi! Do you have a health-related question?\n"
     ]
    },
    {
     "name": "stdin",
     "output_type": "stream",
     "text": [
      "You:  I am in stress\n"
     ]
    },
    {
     "name": "stdout",
     "output_type": "stream",
     "text": [
      "HealthBot: I'm sorry, I don't have information about that. Please consult a healthcare provider.\n"
     ]
    },
    {
     "name": "stdin",
     "output_type": "stream",
     "text": [
      "You:  i have a headache\n"
     ]
    },
    {
     "name": "stdout",
     "output_type": "stream",
     "text": [
      "HealthBot: You should rest, stay hydrated, and take a mild pain reliever if needed.\n"
     ]
    }
   ],
   "source": [
    "# Simple Rule-Based Chatbot (HealthBot)\n",
    "\n",
    "def healthbot():\n",
    "    print(\"HealthBot: Hello! I am HealthBot. How can I assist you today?\")\n",
    "\n",
    "    responses = {\n",
    "        \"hello\": \"Hi! Do you have a health-related question?\",\n",
    "        \"i have a headache\": \"You should rest, stay hydrated, and take a mild pain reliever if needed.\",\n",
    "        \"what should i do if i have a fever\": \"Drink plenty of fluids and rest. If the fever persists, please consult a doctor.\",\n",
    "        \"i feel dizzy\": \"Sit down, breathe deeply, and drink water. If it continues, seek medical help.\",\n",
    "        \"what should i eat for a cold\": \"Warm fluids, soups, citrus fruits, and light meals help during a cold.\",\n",
    "        \"how to stay healthy\": \"Eat balanced meals, exercise regularly, stay hydrated, and get enough sleep.\",\n",
    "        \"what should i do in case of a cut\": \"Clean the wound with water, apply antiseptic, and cover it with a clean bandage.\",\n",
    "        \"how much water should i drink daily\": \"Generally, 2 to 3 liters per day is recommended, but it varies based on your activity.\",\n",
    "        \"thank you\": \"You’re welcome! Take care.\",\n",
    "        \"bye\": \"Goodbye! Stay healthy.\"\n",
    "    }\n",
    "\n",
    "    while True:\n",
    "        user_input = input(\"You: \").strip().lower()\n",
    "        if user_input in responses:\n",
    "            print(f\"HealthBot: {responses[user_input]}\")\n",
    "            if user_input == \"bye\":\n",
    "                break\n",
    "        else:\n",
    "            print(\"HealthBot: I'm sorry, I don't have information about that. Please consult a healthcare provider.\")\n",
    "\n",
    "# Run the chatbot\n",
    "healthbot()\n"
   ]
  },
  {
   "cell_type": "code",
   "execution_count": null,
   "id": "5e25abd1-e41a-46fe-97df-caf3433a5b64",
   "metadata": {},
   "outputs": [],
   "source": []
  }
 ],
 "metadata": {
  "kernelspec": {
   "display_name": "Python 3 (ipykernel)",
   "language": "python",
   "name": "python3"
  },
  "language_info": {
   "codemirror_mode": {
    "name": "ipython",
    "version": 3
   },
   "file_extension": ".py",
   "mimetype": "text/x-python",
   "name": "python",
   "nbconvert_exporter": "python",
   "pygments_lexer": "ipython3",
   "version": "3.12.4"
  }
 },
 "nbformat": 4,
 "nbformat_minor": 5
}
