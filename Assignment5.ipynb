{
  "nbformat": 4,
  "nbformat_minor": 0,
  "metadata": {
    "colab": {
      "provenance": []
    },
    "kernelspec": {
      "name": "python3",
      "display_name": "Python 3"
    },
    "language_info": {
      "name": "python"
    }
  },
  "cells": [
    {
      "cell_type": "code",
      "execution_count": null,
      "metadata": {
        "id": "HHOkrJVwaUaC",
        "colab": {
          "base_uri": "https://localhost:8080/"
        },
        "outputId": "8ef48ab8-be1d-4d11-fbdf-faf168a37928"
      },
      "outputs": [
        {
          "output_type": "stream",
          "name": "stdout",
          "text": [
            "Enter First number: 7\n",
            "Enter Second number: 5\n",
            "Enter Third number: 16\n",
            "The maximum number among 7 5 and 16 is 16\n"
          ]
        }
      ],
      "source": [
        "#Assignment5.1\n",
        "a = int(input(\"Enter First number: \"))\n",
        "b = int(input(\"Enter Second number: \"))\n",
        "c = int(input(\"Enter Third number: \"))\n",
        "maximum = max(a,b,c)\n",
        "print(\"The maximum number among\", a, b, \"and\", c, \"is\", maximum)"
      ]
    },
    {
      "cell_type": "code",
      "source": [
        "#Assignment 5.2\n",
        "#Write a program to add all numbers divisible by 7 and 9 from 1 to n\n",
        "n = int(input(\"Enter a number \"))\n",
        "sum = 0\n",
        "for i in range(1,n+1):\n",
        "  if i % 7 == 0 and i % 9 == 0:\n",
        "    sum += i\n",
        "\n",
        "print(f\"The sum of num divisible by 7 and 9 is 1 to {n} is {sum}\")"
      ],
      "metadata": {
        "id": "jBYnzjTCdr3F",
        "colab": {
          "base_uri": "https://localhost:8080/"
        },
        "outputId": "3cf8e126-e1d2-42f0-8128-6b6365525a90"
      },
      "execution_count": null,
      "outputs": [
        {
          "output_type": "stream",
          "name": "stdout",
          "text": [
            "Enter a number 200\n",
            "The sum of num divisible by 7 and 9 is 1 to 200 is 378\n"
          ]
        }
      ]
    },
    {
      "cell_type": "code",
      "source": [
        "#Assignment 5.3\n",
        "#Write a program to add prime numbers from 1 to n\n",
        "n = int(input(\"Enter a number: \"))\n",
        "sum = 0\n",
        "for num in range(2,n+1):\n",
        "  is_prime = True\n",
        "  for i in range(2, int(num ** 0.5)+1):\n",
        "    if num % i == 0:\n",
        "      is_prime = False\n",
        "      break\n",
        "  if is_prime:\n",
        "    sum += num\n",
        "\n",
        "print(f\"The sum of prime numbers from 1 to {n} is {sum} \")"
      ],
      "metadata": {
        "id": "PKsLY1wJduEM",
        "colab": {
          "base_uri": "https://localhost:8080/"
        },
        "outputId": "6c239537-f64c-4412-a01a-4588df76e362"
      },
      "execution_count": null,
      "outputs": [
        {
          "output_type": "stream",
          "name": "stdout",
          "text": [
            "Enter a number: 10\n",
            "The sum of prime numbers from 1 to 10 is 17 \n"
          ]
        }
      ]
    }
  ]
}